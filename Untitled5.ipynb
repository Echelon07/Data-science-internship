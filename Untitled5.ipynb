{
 "cells": [
  {
   "cell_type": "code",
   "execution_count": 1,
   "id": "1bd53250-a196-4ad0-b56e-06514546a127",
   "metadata": {},
   "outputs": [],
   "source": [
    "import pandas as pd\n",
    "import numpy as np"
   ]
  },
  {
   "cell_type": "code",
   "execution_count": 3,
   "id": "1d9c4511-7d5e-4c03-a839-d4fd5325dc1e",
   "metadata": {},
   "outputs": [
    {
     "data": {
      "text/html": [
       "<div>\n",
       "<style scoped>\n",
       "    .dataframe tbody tr th:only-of-type {\n",
       "        vertical-align: middle;\n",
       "    }\n",
       "\n",
       "    .dataframe tbody tr th {\n",
       "        vertical-align: top;\n",
       "    }\n",
       "\n",
       "    .dataframe thead th {\n",
       "        text-align: right;\n",
       "    }\n",
       "</style>\n",
       "<table border=\"1\" class=\"dataframe\">\n",
       "  <thead>\n",
       "    <tr style=\"text-align: right;\">\n",
       "      <th></th>\n",
       "      <th>Customer Reference ID</th>\n",
       "      <th>Item Purchased</th>\n",
       "      <th>Purchase Amount (USD)</th>\n",
       "      <th>Date Purchase</th>\n",
       "      <th>Review Rating</th>\n",
       "      <th>Payment Method</th>\n",
       "    </tr>\n",
       "  </thead>\n",
       "  <tbody>\n",
       "    <tr>\n",
       "      <th>0</th>\n",
       "      <td>4018</td>\n",
       "      <td>Handbag</td>\n",
       "      <td>4619.0</td>\n",
       "      <td>05-02-2023</td>\n",
       "      <td>NaN</td>\n",
       "      <td>Credit Card</td>\n",
       "    </tr>\n",
       "    <tr>\n",
       "      <th>1</th>\n",
       "      <td>4115</td>\n",
       "      <td>Tunic</td>\n",
       "      <td>2456.0</td>\n",
       "      <td>11-07-2023</td>\n",
       "      <td>2.0</td>\n",
       "      <td>Credit Card</td>\n",
       "    </tr>\n",
       "    <tr>\n",
       "      <th>2</th>\n",
       "      <td>4019</td>\n",
       "      <td>Tank Top</td>\n",
       "      <td>2102.0</td>\n",
       "      <td>23-03-2023</td>\n",
       "      <td>4.1</td>\n",
       "      <td>Cash</td>\n",
       "    </tr>\n",
       "    <tr>\n",
       "      <th>3</th>\n",
       "      <td>4097</td>\n",
       "      <td>Leggings</td>\n",
       "      <td>3126.0</td>\n",
       "      <td>15-03-2023</td>\n",
       "      <td>3.2</td>\n",
       "      <td>Cash</td>\n",
       "    </tr>\n",
       "    <tr>\n",
       "      <th>4</th>\n",
       "      <td>3997</td>\n",
       "      <td>Wallet</td>\n",
       "      <td>3003.0</td>\n",
       "      <td>27-11-2022</td>\n",
       "      <td>4.7</td>\n",
       "      <td>Cash</td>\n",
       "    </tr>\n",
       "    <tr>\n",
       "      <th>...</th>\n",
       "      <td>...</td>\n",
       "      <td>...</td>\n",
       "      <td>...</td>\n",
       "      <td>...</td>\n",
       "      <td>...</td>\n",
       "      <td>...</td>\n",
       "    </tr>\n",
       "    <tr>\n",
       "      <th>3395</th>\n",
       "      <td>4118</td>\n",
       "      <td>Shorts</td>\n",
       "      <td>37.0</td>\n",
       "      <td>09-07-2023</td>\n",
       "      <td>2.7</td>\n",
       "      <td>Cash</td>\n",
       "    </tr>\n",
       "    <tr>\n",
       "      <th>3396</th>\n",
       "      <td>4056</td>\n",
       "      <td>Slippers</td>\n",
       "      <td>176.0</td>\n",
       "      <td>16-03-2023</td>\n",
       "      <td>2.5</td>\n",
       "      <td>Cash</td>\n",
       "    </tr>\n",
       "    <tr>\n",
       "      <th>3397</th>\n",
       "      <td>3991</td>\n",
       "      <td>Onesie</td>\n",
       "      <td>NaN</td>\n",
       "      <td>03-10-2022</td>\n",
       "      <td>2.4</td>\n",
       "      <td>Credit Card</td>\n",
       "    </tr>\n",
       "    <tr>\n",
       "      <th>3398</th>\n",
       "      <td>4042</td>\n",
       "      <td>Sandals</td>\n",
       "      <td>128.0</td>\n",
       "      <td>01-01-2023</td>\n",
       "      <td>1.8</td>\n",
       "      <td>Cash</td>\n",
       "    </tr>\n",
       "    <tr>\n",
       "      <th>3399</th>\n",
       "      <td>4001</td>\n",
       "      <td>Backpack</td>\n",
       "      <td>115.0</td>\n",
       "      <td>22-03-2023</td>\n",
       "      <td>1.4</td>\n",
       "      <td>Cash</td>\n",
       "    </tr>\n",
       "  </tbody>\n",
       "</table>\n",
       "<p>3400 rows × 6 columns</p>\n",
       "</div>"
      ],
      "text/plain": [
       "      Customer Reference ID Item Purchased  Purchase Amount (USD)  \\\n",
       "0                      4018        Handbag                 4619.0   \n",
       "1                      4115          Tunic                 2456.0   \n",
       "2                      4019       Tank Top                 2102.0   \n",
       "3                      4097       Leggings                 3126.0   \n",
       "4                      3997         Wallet                 3003.0   \n",
       "...                     ...            ...                    ...   \n",
       "3395                   4118         Shorts                   37.0   \n",
       "3396                   4056       Slippers                  176.0   \n",
       "3397                   3991         Onesie                    NaN   \n",
       "3398                   4042        Sandals                  128.0   \n",
       "3399                   4001       Backpack                  115.0   \n",
       "\n",
       "     Date Purchase  Review Rating Payment Method  \n",
       "0       05-02-2023            NaN    Credit Card  \n",
       "1       11-07-2023            2.0    Credit Card  \n",
       "2       23-03-2023            4.1           Cash  \n",
       "3       15-03-2023            3.2           Cash  \n",
       "4       27-11-2022            4.7           Cash  \n",
       "...            ...            ...            ...  \n",
       "3395    09-07-2023            2.7           Cash  \n",
       "3396    16-03-2023            2.5           Cash  \n",
       "3397    03-10-2022            2.4    Credit Card  \n",
       "3398    01-01-2023            1.8           Cash  \n",
       "3399    22-03-2023            1.4           Cash  \n",
       "\n",
       "[3400 rows x 6 columns]"
      ]
     },
     "execution_count": 3,
     "metadata": {},
     "output_type": "execute_result"
    }
   ],
   "source": [
    "df = pd.read_csv(r\"C:\\Users\\User\\Documents\\Data SC\\Fashion_Retail_Sales.csv\")\n",
    "df"
   ]
  },
  {
   "cell_type": "code",
   "execution_count": 5,
   "id": "566b9b1f-c887-477a-b656-4563c27c68cc",
   "metadata": {
    "collapsed": true,
    "jupyter": {
     "outputs_hidden": true
    }
   },
   "outputs": [
    {
     "name": "stdout",
     "output_type": "stream",
     "text": [
      "<class 'pandas.core.frame.DataFrame'>\n",
      "RangeIndex: 3400 entries, 0 to 3399\n",
      "Data columns (total 6 columns):\n",
      " #   Column                 Non-Null Count  Dtype  \n",
      "---  ------                 --------------  -----  \n",
      " 0   Customer Reference ID  3400 non-null   int64  \n",
      " 1   Item Purchased         3400 non-null   object \n",
      " 2   Purchase Amount (USD)  2750 non-null   float64\n",
      " 3   Date Purchase          3400 non-null   object \n",
      " 4   Review Rating          3076 non-null   float64\n",
      " 5   Payment Method         3400 non-null   object \n",
      "dtypes: float64(2), int64(1), object(3)\n",
      "memory usage: 159.5+ KB\n"
     ]
    }
   ],
   "source": [
    "df.info()"
   ]
  },
  {
   "cell_type": "code",
   "execution_count": 9,
   "id": "da2869f5-9fda-4eff-a979-ddc8066853f4",
   "metadata": {
    "collapsed": true,
    "jupyter": {
     "outputs_hidden": true
    }
   },
   "outputs": [
    {
     "data": {
      "text/plain": [
       "Customer Reference ID      0\n",
       "Item Purchased             0\n",
       "Purchase Amount (USD)    650\n",
       "Date Purchase              0\n",
       "Review Rating            324\n",
       "Payment Method             0\n",
       "dtype: int64"
      ]
     },
     "execution_count": 9,
     "metadata": {},
     "output_type": "execute_result"
    }
   ],
   "source": [
    "df.isnull().sum()"
   ]
  },
  {
   "cell_type": "code",
   "execution_count": 25,
   "id": "c8e1ddf2-31b6-4042-9337-f0e3c8d7c27d",
   "metadata": {
    "collapsed": true,
    "jupyter": {
     "outputs_hidden": true
    }
   },
   "outputs": [
    {
     "data": {
      "image/png": "[encoded data removed]",
      "text/plain": [
       "<Figure size 640x480 with 1 Axes>"
      ]
     },
     "metadata": {},
     "output_type": "display_data"
    }
   ],
   "source": [
    "import seaborn as sns\n",
    "import matplotlib.pyplot as plt\n",
    "\n",
    "sns.boxplot(x=df['Purchase Amount (USD)'])\n",
    "plt.title('Boxplot of Purchase Amount')\n",
    "plt.show()"
   ]
  },
  {
   "cell_type": "markdown",
   "id": "95bffbc5-bcf2-46ca-9869-0efbb8c81c47",
   "metadata": {},
   "source": [
    "since the purchase amount have outliers, i will fill its missing values with median instead of mean\n"
   ]
  },
  {
   "cell_type": "code",
   "execution_count": 43,
   "id": "ddfb47d7-d798-4486-8fc2-f6c5a139bc1b",
   "metadata": {},
   "outputs": [],
   "source": [
    "df['Purchase Amount (USD)'] = df['Purchase Amount (USD)'].fillna(df['Purchase Amount (USD)'].median())"
   ]
  },
  {
   "cell_type": "code",
   "execution_count": 45,
   "id": "1697143e-6a92-4639-9212-2868e5fd520b",
   "metadata": {},
   "outputs": [
    {
     "data": {
      "text/plain": [
       "0"
      ]
     },
     "execution_count": 45,
     "metadata": {},
     "output_type": "execute_result"
    }
   ],
   "source": [
    "df['Purchase Amount (USD)'].isnull().sum()"
   ]
  },
  {
   "cell_type": "code",
   "execution_count": 27,
   "id": "beba80df-2d2c-45f6-8961-44d6c8809661",
   "metadata": {
    "collapsed": true,
    "jupyter": {
     "outputs_hidden": true
    }
   },
   "outputs": [
    {
     "data": {
      "image/png": "[encoded data removed]",
      "text/plain": [
       "<Figure size 800x600 with 1 Axes>"
      ]
     },
     "metadata": {},
     "output_type": "display_data"
    }
   ],
   "source": [
    "# Box plot to detect outliers\n",
    "plt.figure(figsize=(8, 6))\n",
    "sns.boxplot(x=df['Review Rating'])\n",
    "plt.title('Boxplot of Review Rating')\n",
    "plt.show()"
   ]
  },
  {
   "cell_type": "markdown",
   "id": "5729c7d8-223a-4481-a50e-9da98fd0977e",
   "metadata": {},
   "source": [
    "since there are no outlier in the Review Rating column, i will fill the misssing values with mean\n"
   ]
  },
  {
   "cell_type": "code",
   "execution_count": 31,
   "id": "67b3d44b-5838-4da8-b5f3-88522a6c0d09",
   "metadata": {},
   "outputs": [],
   "source": [
    "# Fill missing values in 'Review Rating' with the mean\n",
    "df['Review Rating'] = df['Review Rating'].fillna(df['Review Rating'].mean())"
   ]
  },
  {
   "cell_type": "code",
   "execution_count": 47,
   "id": "0ace21a2-a04e-47a4-be5d-fe9a070fef30",
   "metadata": {
    "collapsed": true,
    "jupyter": {
     "outputs_hidden": true
    }
   },
   "outputs": [
    {
     "name": "stdout",
     "output_type": "stream",
     "text": [
      "<class 'pandas.core.frame.DataFrame'>\n",
      "RangeIndex: 3400 entries, 0 to 3399\n",
      "Data columns (total 6 columns):\n",
      " #   Column                 Non-Null Count  Dtype         \n",
      "---  ------                 --------------  -----         \n",
      " 0   Customer Reference ID  3400 non-null   int64         \n",
      " 1   Item Purchased         3400 non-null   object        \n",
      " 2   Purchase Amount (USD)  3400 non-null   float64       \n",
      " 3   Date Purchase          3400 non-null   datetime64[ns]\n",
      " 4   Review Rating          3400 non-null   float64       \n",
      " 5   Payment Method         3400 non-null   object        \n",
      "dtypes: datetime64[ns](1), float64(2), int64(1), object(2)\n",
      "memory usage: 159.5+ KB\n"
     ]
    }
   ],
   "source": [
    "df.info()"
   ]
  },
  {
   "cell_type": "code",
   "execution_count": 49,
   "id": "6f69ad2c-75c0-4ff4-a5c5-51e4ba7d2bbe",
   "metadata": {},
   "outputs": [
    {
     "data": {
      "text/html": [
       "<div>\n",
       "<style scoped>\n",
       "    .dataframe tbody tr th:only-of-type {\n",
       "        vertical-align: middle;\n",
       "    }\n",
       "\n",
       "    .dataframe tbody tr th {\n",
       "        vertical-align: top;\n",
       "    }\n",
       "\n",
       "    .dataframe thead th {\n",
       "        text-align: right;\n",
       "    }\n",
       "</style>\n",
       "<table border=\"1\" class=\"dataframe\">\n",
       "  <thead>\n",
       "    <tr style=\"text-align: right;\">\n",
       "      <th></th>\n",
       "      <th>Customer Reference ID</th>\n",
       "      <th>Purchase Amount (USD)</th>\n",
       "      <th>Date Purchase</th>\n",
       "      <th>Review Rating</th>\n",
       "    </tr>\n",
       "  </thead>\n",
       "  <tbody>\n",
       "    <tr>\n",
       "      <th>count</th>\n",
       "      <td>3400.000000</td>\n",
       "      <td>3400.000000</td>\n",
       "      <td>3400</td>\n",
       "      <td>3400.000000</td>\n",
       "    </tr>\n",
       "    <tr>\n",
       "      <th>mean</th>\n",
       "      <td>4039.660588</td>\n",
       "      <td>147.780000</td>\n",
       "      <td>2023-04-01 01:40:22.588235520</td>\n",
       "      <td>2.999057</td>\n",
       "    </tr>\n",
       "    <tr>\n",
       "      <th>min</th>\n",
       "      <td>3957.000000</td>\n",
       "      <td>10.000000</td>\n",
       "      <td>2022-10-02 00:00:00</td>\n",
       "      <td>1.000000</td>\n",
       "    </tr>\n",
       "    <tr>\n",
       "      <th>25%</th>\n",
       "      <td>3997.000000</td>\n",
       "      <td>70.000000</td>\n",
       "      <td>2022-12-31 00:00:00</td>\n",
       "      <td>2.100000</td>\n",
       "    </tr>\n",
       "    <tr>\n",
       "      <th>50%</th>\n",
       "      <td>4040.000000</td>\n",
       "      <td>110.000000</td>\n",
       "      <td>2023-04-03 00:00:00</td>\n",
       "      <td>2.999057</td>\n",
       "    </tr>\n",
       "    <tr>\n",
       "      <th>75%</th>\n",
       "      <td>4081.000000</td>\n",
       "      <td>146.000000</td>\n",
       "      <td>2023-07-02 00:00:00</td>\n",
       "      <td>3.900000</td>\n",
       "    </tr>\n",
       "    <tr>\n",
       "      <th>max</th>\n",
       "      <td>4122.000000</td>\n",
       "      <td>4932.000000</td>\n",
       "      <td>2023-10-01 00:00:00</td>\n",
       "      <td>5.000000</td>\n",
       "    </tr>\n",
       "    <tr>\n",
       "      <th>std</th>\n",
       "      <td>48.122583</td>\n",
       "      <td>377.742531</td>\n",
       "      <td>NaN</td>\n",
       "      <td>1.100005</td>\n",
       "    </tr>\n",
       "  </tbody>\n",
       "</table>\n",
       "</div>"
      ],
      "text/plain": [
       "       Customer Reference ID  Purchase Amount (USD)  \\\n",
       "count            3400.000000            3400.000000   \n",
       "mean             4039.660588             147.780000   \n",
       "min              3957.000000              10.000000   \n",
       "25%              3997.000000              70.000000   \n",
       "50%              4040.000000             110.000000   \n",
       "75%              4081.000000             146.000000   \n",
       "max              4122.000000            4932.000000   \n",
       "std                48.122583             377.742531   \n",
       "\n",
       "                       Date Purchase  Review Rating  \n",
       "count                           3400    3400.000000  \n",
       "mean   2023-04-01 01:40:22.588235520       2.999057  \n",
       "min              2022-10-02 00:00:00       1.000000  \n",
       "25%              2022-12-31 00:00:00       2.100000  \n",
       "50%              2023-04-03 00:00:00       2.999057  \n",
       "75%              2023-07-02 00:00:00       3.900000  \n",
       "max              2023-10-01 00:00:00       5.000000  \n",
       "std                              NaN       1.100005  "
      ]
     },
     "execution_count": 49,
     "metadata": {},
     "output_type": "execute_result"
    }
   ],
   "source": [
    "df.describe()"
   ]
  },
  {
   "cell_type": "code",
   "execution_count": 61,
   "id": "3feaba7a-2c55-4605-b3e8-ce64cf0e3697",
   "metadata": {},
   "outputs": [
    {
     "data": {
      "image/png": "[encoded data removed]",
      "text/plain": [
       "<Figure size 400x200 with 2 Axes>"
      ]
     },
     "metadata": {},
     "output_type": "display_data"
    }
   ],
   "source": [
    "# Compute correlation matrix (numeric columns only)\n",
    "Corr_Matrix = round(df.corr(numeric_only=True), 2)\n",
    "\n",
    "# Set plot size\n",
    "plt.figure(figsize=(4, 2))\n",
    "\n",
    "# Create heatmap\n",
    "sns.heatmap(Corr_Matrix, annot=True, cmap='coolwarm', linewidths=0.5, linecolor='gray')\n",
    "\n",
    "# Add title\n",
    "plt.title('Correlation Matrix Heatmap', fontsize=11)\n",
    "\n",
    "# Show plot\n",
    "plt.show()"
   ]
  },
  {
   "cell_type": "code",
   "execution_count": null,
   "id": "34f5f2b5-286e-40a8-8741-b68a274b3f23",
   "metadata": {},
   "outputs": [],
   "source": []
  }
 ],
 "metadata": {
  "kernelspec": {
   "display_name": "Python [conda env:base] *",
   "language": "python",
   "name": "conda-base-py"
  },
  "language_info": {
   "codemirror_mode": {
    "name": "ipython",
    "version": 3
   },
   "file_extension": ".py",
   "mimetype": "text/x-python",
   "name": "python",
   "nbconvert_exporter": "python",
   "pygments_lexer": "ipython3",
   "version": "3.12.7"
  }
 },
 "nbformat": 4,
 "nbformat_minor": 5
}
