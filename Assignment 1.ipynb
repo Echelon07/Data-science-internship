{
 "cells": [
  {
   "cell_type": "markdown",
   "id": "a694a620-890a-443d-b359-6611839d4fae",
   "metadata": {},
   "source": [
    "ASSIGNMENT 1. create a python program that stimulate a game of rock , . the paper, scissors between the user and the computer. the program must define the possible choice, generate a random choice for the computer, determine the winner based on the rules of the rock, paper and scissors"
   ]
  },
  {
   "cell_type": "code",
   "execution_count": null,
   "id": "6e26ebf6-3f4f-42c2-bd37-85350aa06b06",
   "metadata": {},
   "outputs": [],
   "source": [
    "import random\n",
    "\n",
    "# Step 1: Define possible choices\n",
    "choices = [\"rock\", \"paper\", \"scissors\"]\n",
    "\n",
    "# Step 2: Ask the user to make a choice\n",
    "user_choice = input(\"Enter your choice (rock, paper, or scissors): \").lower()\n",
    "\n",
    "# Step 3: Validate user input\n",
    "if user_choice not in choices:\n",
    "    print(\"Invalid choice. Please choose rock, paper, or scissors.\")\n",
    "else:\n",
    "    # Step 4: Computer makes a random choice\n",
    "    computer_choice = random.choice(choices)\n",
    "    print(f\"Computer chose: {computer_choice}\")\n",
    "\n",
    "    # Step 5: Determine the winner\n",
    "    if user_choice == computer_choice:\n",
    "        print(\"It's a tie!\")\n",
    "    elif (\n",
    "        (user_choice == \"rock\" and computer_choice == \"scissors\") or\n",
    "        (user_choice == \"paper\" and computer_choice == \"rock\") or\n",
    "        (user_choice == \"scissors\" and computer_choice == \"paper\")\n",
    "    ):\n",
    "        print(\"You win!\")\n",
    "    else:\n",
    "        print(\"Computer wins!\")\n"
   ]
  },
  {
   "cell_type": "markdown",
   "id": "1867eba2-868d-49d8-b2d0-dc2d6e460081",
   "metadata": {},
   "source": [
    "winning rules implemented in the game.\n",
    "\n",
    "| User's Choice | Computer's Choice | Result        |\n",
    "| ------------- | ----------------- | ------------- |\n",
    "| rock          | scissors          | User wins     |\n",
    "| paper         | rock              | User wins     |\n",
    "| scissors      | paper             | User wins     |\n",
    "| rock          | paper             | Computer wins |\n",
    "| paper         | scissors          | Computer wins |\n",
    "| scissors      | rock              | Computer wins |\n",
    "| Same choice   | Same choice       | It's a tie    |\n"
   ]
  },
  {
   "cell_type": "code",
   "execution_count": null,
   "id": "012a89e8-6e6c-4b52-8a08-d57dd20dd322",
   "metadata": {},
   "outputs": [],
   "source": []
  }
 ],
 "metadata": {
  "kernelspec": {
   "display_name": "Python [conda env:base] *",
   "language": "python",
   "name": "conda-base-py"
  },
  "language_info": {
   "codemirror_mode": {
    "name": "ipython",
    "version": 3
   },
   "file_extension": ".py",
   "mimetype": "text/x-python",
   "name": "python",
   "nbconvert_exporter": "python",
   "pygments_lexer": "ipython3",
   "version": "3.12.7"
  }
 },
 "nbformat": 4,
 "nbformat_minor": 5
}
